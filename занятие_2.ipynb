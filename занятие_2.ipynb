{
  "cells": [
    {
      "cell_type": "markdown",
      "metadata": {
        "id": "view-in-github",
        "colab_type": "text"
      },
      "source": [
        "<a href=\"https://colab.research.google.com/github/K1R1VV/ASU_Lab/blob/main/%D0%B7%D0%B0%D0%BD%D1%8F%D1%82%D0%B8%D0%B5_2.ipynb\" target=\"_parent\"><img src=\"https://colab.research.google.com/assets/colab-badge.svg\" alt=\"Open In Colab\"/></a>"
      ]
    },
    {
      "cell_type": "markdown",
      "metadata": {
        "id": "7uE_Sldt-33f"
      },
      "source": [
        "## Охота на мусор\n",
        "Процесс подготовки данных для дальнейшего анализа называется предобработка. Заключается она в поиске проблем, которые могут быть в данных, и в решении этих проблем.\n",
        "В информатике работает принцип GIGO (от англ. garbage in — garbage out, буквально «мусор на входе — мусор на выходе»). Это значит, что при ошибках во входных данных даже правильный алгоритм работы выдаёт неверные результаты.\n",
        "Посмотрите на этот срез данных\n",
        "\n",
        "В столбце genre для одного жанра есть два названия: джаз и jazz. Если принять всё как есть, подсчёт прослушанных джазовых композиций даст два ответа — для жанра джаз и для жанра jazz, которые представляют одну и ту же сущность. Это помешает сделать правильные выводы об интересе пользователей к джазу, и может повлечь неверные решения.\n",
        "Вообще сложности с данными бывают двух видов:\n",
        "\n",
        "•\tданные содержат мусор;\n",
        "\n",
        "•\tданные корректны, но представлены в такой форме, что малопригодны для анализа.\n",
        "\n",
        "В этой теме мы раскроем базовые механизмы борьбы с часто встречаемыми проблемами. Из них самые очевидные, но в то же время самые опасные:\n",
        "\n",
        "• некорректное именование столбцов\n",
        "\n",
        "• дублирование значений\n",
        "\n",
        "• отсутствующие значения (NaN)\n",
        "\n",
        "Механизмы борьбы с ними — основа, с которой вы можете начать своё развитие как специалист по предобработке данных.\n",
        "\n",
        "**Задача**\n",
        "1. Загрузите датасет с данными из Яндекс.Музыка Вызовите метод info(), чтобы просмотреть сводку по всему набору данных.\n",
        "\n"
      ]
    },
    {
      "cell_type": "code",
      "execution_count": null,
      "metadata": {
        "colab": {
          "base_uri": "https://localhost:8080/"
        },
        "id": "BeJsZMUD-5OQ",
        "outputId": "fbb12c3a-8c99-4c90-e911-0faebf1b4341"
      },
      "outputs": [
        {
          "output_type": "stream",
          "name": "stdout",
          "text": [
            "Drive already mounted at /content/drive; to attempt to forcibly remount, call drive.mount(\"/content/drive\", force_remount=True).\n"
          ]
        }
      ],
      "source": [
        "from google.colab import drive\n",
        "drive.mount('/content/drive')"
      ]
    },
    {
      "cell_type": "code",
      "execution_count": null,
      "metadata": {
        "colab": {
          "base_uri": "https://localhost:8080/",
          "height": 363
        },
        "id": "2lmHSsa1-33h",
        "outputId": "dba8a7f9-5739-4127-b8da-6e897401d5dc"
      },
      "outputs": [
        {
          "output_type": "execute_result",
          "data": {
            "text/plain": [
              "     userID                        Track            artist   genre  \\\n",
              "0  FFB692EC            Kamigata To Boots  The Mass Missile    rock   \n",
              "1  55204538  Delayed Because of Accident  Andreas Rönnberg    rock   \n",
              "2    20EC38            Funiculì funiculà       Mario Lanza     pop   \n",
              "3  A3DD03C9        Dragons in the Sunset        Fire + Ice    folk   \n",
              "4  E2DC1FAE                  Soul People        Space Echo   dance   \n",
              "5  842029A1                    Преданная         IMPERVTOR  rusrap   \n",
              "6  4CB90AA5                         True      Roman Messer   dance   \n",
              "7  F03E1C1F             Feeling This Way   Polina Griffith   dance   \n",
              "8  8FA1D3BE     И вновь продолжается бой               NaN  ruspop   \n",
              "9  E772D5C0                    Pessimist               NaN   dance   \n",
              "\n",
              "             City        time        Day  \n",
              "0  Saint-Petersburg  20:28:33  Wednesday  \n",
              "1            Moscow  14:07:09     Friday  \n",
              "2  Saint-Petersburg  20:58:07  Wednesday  \n",
              "3  Saint-Petersburg  08:37:09     Monday  \n",
              "4            Moscow  08:34:34     Monday  \n",
              "5  Saint-Petersburg  13:09:41     Friday  \n",
              "6            Moscow  13:00:07  Wednesday  \n",
              "7            Moscow  20:47:49  Wednesday  \n",
              "8            Moscow  09:17:40     Friday  \n",
              "9  Saint-Petersburg  21:20:49  Wednesday  "
            ],
            "text/html": [
              "\n",
              "  <div id=\"df-eee3d53e-33ee-4295-a583-e86ba2def290\" class=\"colab-df-container\">\n",
              "    <div>\n",
              "<style scoped>\n",
              "    .dataframe tbody tr th:only-of-type {\n",
              "        vertical-align: middle;\n",
              "    }\n",
              "\n",
              "    .dataframe tbody tr th {\n",
              "        vertical-align: top;\n",
              "    }\n",
              "\n",
              "    .dataframe thead th {\n",
              "        text-align: right;\n",
              "    }\n",
              "</style>\n",
              "<table border=\"1\" class=\"dataframe\">\n",
              "  <thead>\n",
              "    <tr style=\"text-align: right;\">\n",
              "      <th></th>\n",
              "      <th>userID</th>\n",
              "      <th>Track</th>\n",
              "      <th>artist</th>\n",
              "      <th>genre</th>\n",
              "      <th>City</th>\n",
              "      <th>time</th>\n",
              "      <th>Day</th>\n",
              "    </tr>\n",
              "  </thead>\n",
              "  <tbody>\n",
              "    <tr>\n",
              "      <th>0</th>\n",
              "      <td>FFB692EC</td>\n",
              "      <td>Kamigata To Boots</td>\n",
              "      <td>The Mass Missile</td>\n",
              "      <td>rock</td>\n",
              "      <td>Saint-Petersburg</td>\n",
              "      <td>20:28:33</td>\n",
              "      <td>Wednesday</td>\n",
              "    </tr>\n",
              "    <tr>\n",
              "      <th>1</th>\n",
              "      <td>55204538</td>\n",
              "      <td>Delayed Because of Accident</td>\n",
              "      <td>Andreas Rönnberg</td>\n",
              "      <td>rock</td>\n",
              "      <td>Moscow</td>\n",
              "      <td>14:07:09</td>\n",
              "      <td>Friday</td>\n",
              "    </tr>\n",
              "    <tr>\n",
              "      <th>2</th>\n",
              "      <td>20EC38</td>\n",
              "      <td>Funiculì funiculà</td>\n",
              "      <td>Mario Lanza</td>\n",
              "      <td>pop</td>\n",
              "      <td>Saint-Petersburg</td>\n",
              "      <td>20:58:07</td>\n",
              "      <td>Wednesday</td>\n",
              "    </tr>\n",
              "    <tr>\n",
              "      <th>3</th>\n",
              "      <td>A3DD03C9</td>\n",
              "      <td>Dragons in the Sunset</td>\n",
              "      <td>Fire + Ice</td>\n",
              "      <td>folk</td>\n",
              "      <td>Saint-Petersburg</td>\n",
              "      <td>08:37:09</td>\n",
              "      <td>Monday</td>\n",
              "    </tr>\n",
              "    <tr>\n",
              "      <th>4</th>\n",
              "      <td>E2DC1FAE</td>\n",
              "      <td>Soul People</td>\n",
              "      <td>Space Echo</td>\n",
              "      <td>dance</td>\n",
              "      <td>Moscow</td>\n",
              "      <td>08:34:34</td>\n",
              "      <td>Monday</td>\n",
              "    </tr>\n",
              "    <tr>\n",
              "      <th>5</th>\n",
              "      <td>842029A1</td>\n",
              "      <td>Преданная</td>\n",
              "      <td>IMPERVTOR</td>\n",
              "      <td>rusrap</td>\n",
              "      <td>Saint-Petersburg</td>\n",
              "      <td>13:09:41</td>\n",
              "      <td>Friday</td>\n",
              "    </tr>\n",
              "    <tr>\n",
              "      <th>6</th>\n",
              "      <td>4CB90AA5</td>\n",
              "      <td>True</td>\n",
              "      <td>Roman Messer</td>\n",
              "      <td>dance</td>\n",
              "      <td>Moscow</td>\n",
              "      <td>13:00:07</td>\n",
              "      <td>Wednesday</td>\n",
              "    </tr>\n",
              "    <tr>\n",
              "      <th>7</th>\n",
              "      <td>F03E1C1F</td>\n",
              "      <td>Feeling This Way</td>\n",
              "      <td>Polina Griffith</td>\n",
              "      <td>dance</td>\n",
              "      <td>Moscow</td>\n",
              "      <td>20:47:49</td>\n",
              "      <td>Wednesday</td>\n",
              "    </tr>\n",
              "    <tr>\n",
              "      <th>8</th>\n",
              "      <td>8FA1D3BE</td>\n",
              "      <td>И вновь продолжается бой</td>\n",
              "      <td>NaN</td>\n",
              "      <td>ruspop</td>\n",
              "      <td>Moscow</td>\n",
              "      <td>09:17:40</td>\n",
              "      <td>Friday</td>\n",
              "    </tr>\n",
              "    <tr>\n",
              "      <th>9</th>\n",
              "      <td>E772D5C0</td>\n",
              "      <td>Pessimist</td>\n",
              "      <td>NaN</td>\n",
              "      <td>dance</td>\n",
              "      <td>Saint-Petersburg</td>\n",
              "      <td>21:20:49</td>\n",
              "      <td>Wednesday</td>\n",
              "    </tr>\n",
              "  </tbody>\n",
              "</table>\n",
              "</div>\n",
              "    <div class=\"colab-df-buttons\">\n",
              "\n",
              "  <div class=\"colab-df-container\">\n",
              "    <button class=\"colab-df-convert\" onclick=\"convertToInteractive('df-eee3d53e-33ee-4295-a583-e86ba2def290')\"\n",
              "            title=\"Convert this dataframe to an interactive table.\"\n",
              "            style=\"display:none;\">\n",
              "\n",
              "  <svg xmlns=\"http://www.w3.org/2000/svg\" height=\"24px\" viewBox=\"0 -960 960 960\">\n",
              "    <path d=\"M120-120v-720h720v720H120Zm60-500h600v-160H180v160Zm220 220h160v-160H400v160Zm0 220h160v-160H400v160ZM180-400h160v-160H180v160Zm440 0h160v-160H620v160ZM180-180h160v-160H180v160Zm440 0h160v-160H620v160Z\"/>\n",
              "  </svg>\n",
              "    </button>\n",
              "\n",
              "  <style>\n",
              "    .colab-df-container {\n",
              "      display:flex;\n",
              "      gap: 12px;\n",
              "    }\n",
              "\n",
              "    .colab-df-convert {\n",
              "      background-color: #E8F0FE;\n",
              "      border: none;\n",
              "      border-radius: 50%;\n",
              "      cursor: pointer;\n",
              "      display: none;\n",
              "      fill: #1967D2;\n",
              "      height: 32px;\n",
              "      padding: 0 0 0 0;\n",
              "      width: 32px;\n",
              "    }\n",
              "\n",
              "    .colab-df-convert:hover {\n",
              "      background-color: #E2EBFA;\n",
              "      box-shadow: 0px 1px 2px rgba(60, 64, 67, 0.3), 0px 1px 3px 1px rgba(60, 64, 67, 0.15);\n",
              "      fill: #174EA6;\n",
              "    }\n",
              "\n",
              "    .colab-df-buttons div {\n",
              "      margin-bottom: 4px;\n",
              "    }\n",
              "\n",
              "    [theme=dark] .colab-df-convert {\n",
              "      background-color: #3B4455;\n",
              "      fill: #D2E3FC;\n",
              "    }\n",
              "\n",
              "    [theme=dark] .colab-df-convert:hover {\n",
              "      background-color: #434B5C;\n",
              "      box-shadow: 0px 1px 3px 1px rgba(0, 0, 0, 0.15);\n",
              "      filter: drop-shadow(0px 1px 2px rgba(0, 0, 0, 0.3));\n",
              "      fill: #FFFFFF;\n",
              "    }\n",
              "  </style>\n",
              "\n",
              "    <script>\n",
              "      const buttonEl =\n",
              "        document.querySelector('#df-eee3d53e-33ee-4295-a583-e86ba2def290 button.colab-df-convert');\n",
              "      buttonEl.style.display =\n",
              "        google.colab.kernel.accessAllowed ? 'block' : 'none';\n",
              "\n",
              "      async function convertToInteractive(key) {\n",
              "        const element = document.querySelector('#df-eee3d53e-33ee-4295-a583-e86ba2def290');\n",
              "        const dataTable =\n",
              "          await google.colab.kernel.invokeFunction('convertToInteractive',\n",
              "                                                    [key], {});\n",
              "        if (!dataTable) return;\n",
              "\n",
              "        const docLinkHtml = 'Like what you see? Visit the ' +\n",
              "          '<a target=\"_blank\" href=https://colab.research.google.com/notebooks/data_table.ipynb>data table notebook</a>'\n",
              "          + ' to learn more about interactive tables.';\n",
              "        element.innerHTML = '';\n",
              "        dataTable['output_type'] = 'display_data';\n",
              "        await google.colab.output.renderOutput(dataTable, element);\n",
              "        const docLink = document.createElement('div');\n",
              "        docLink.innerHTML = docLinkHtml;\n",
              "        element.appendChild(docLink);\n",
              "      }\n",
              "    </script>\n",
              "  </div>\n",
              "\n",
              "\n",
              "<div id=\"df-e170b87b-160a-4cfb-a1ee-38f497fa34e6\">\n",
              "  <button class=\"colab-df-quickchart\" onclick=\"quickchart('df-e170b87b-160a-4cfb-a1ee-38f497fa34e6')\"\n",
              "            title=\"Suggest charts\"\n",
              "            style=\"display:none;\">\n",
              "\n",
              "<svg xmlns=\"http://www.w3.org/2000/svg\" height=\"24px\"viewBox=\"0 0 24 24\"\n",
              "     width=\"24px\">\n",
              "    <g>\n",
              "        <path d=\"M19 3H5c-1.1 0-2 .9-2 2v14c0 1.1.9 2 2 2h14c1.1 0 2-.9 2-2V5c0-1.1-.9-2-2-2zM9 17H7v-7h2v7zm4 0h-2V7h2v10zm4 0h-2v-4h2v4z\"/>\n",
              "    </g>\n",
              "</svg>\n",
              "  </button>\n",
              "\n",
              "<style>\n",
              "  .colab-df-quickchart {\n",
              "      --bg-color: #E8F0FE;\n",
              "      --fill-color: #1967D2;\n",
              "      --hover-bg-color: #E2EBFA;\n",
              "      --hover-fill-color: #174EA6;\n",
              "      --disabled-fill-color: #AAA;\n",
              "      --disabled-bg-color: #DDD;\n",
              "  }\n",
              "\n",
              "  [theme=dark] .colab-df-quickchart {\n",
              "      --bg-color: #3B4455;\n",
              "      --fill-color: #D2E3FC;\n",
              "      --hover-bg-color: #434B5C;\n",
              "      --hover-fill-color: #FFFFFF;\n",
              "      --disabled-bg-color: #3B4455;\n",
              "      --disabled-fill-color: #666;\n",
              "  }\n",
              "\n",
              "  .colab-df-quickchart {\n",
              "    background-color: var(--bg-color);\n",
              "    border: none;\n",
              "    border-radius: 50%;\n",
              "    cursor: pointer;\n",
              "    display: none;\n",
              "    fill: var(--fill-color);\n",
              "    height: 32px;\n",
              "    padding: 0;\n",
              "    width: 32px;\n",
              "  }\n",
              "\n",
              "  .colab-df-quickchart:hover {\n",
              "    background-color: var(--hover-bg-color);\n",
              "    box-shadow: 0 1px 2px rgba(60, 64, 67, 0.3), 0 1px 3px 1px rgba(60, 64, 67, 0.15);\n",
              "    fill: var(--button-hover-fill-color);\n",
              "  }\n",
              "\n",
              "  .colab-df-quickchart-complete:disabled,\n",
              "  .colab-df-quickchart-complete:disabled:hover {\n",
              "    background-color: var(--disabled-bg-color);\n",
              "    fill: var(--disabled-fill-color);\n",
              "    box-shadow: none;\n",
              "  }\n",
              "\n",
              "  .colab-df-spinner {\n",
              "    border: 2px solid var(--fill-color);\n",
              "    border-color: transparent;\n",
              "    border-bottom-color: var(--fill-color);\n",
              "    animation:\n",
              "      spin 1s steps(1) infinite;\n",
              "  }\n",
              "\n",
              "  @keyframes spin {\n",
              "    0% {\n",
              "      border-color: transparent;\n",
              "      border-bottom-color: var(--fill-color);\n",
              "      border-left-color: var(--fill-color);\n",
              "    }\n",
              "    20% {\n",
              "      border-color: transparent;\n",
              "      border-left-color: var(--fill-color);\n",
              "      border-top-color: var(--fill-color);\n",
              "    }\n",
              "    30% {\n",
              "      border-color: transparent;\n",
              "      border-left-color: var(--fill-color);\n",
              "      border-top-color: var(--fill-color);\n",
              "      border-right-color: var(--fill-color);\n",
              "    }\n",
              "    40% {\n",
              "      border-color: transparent;\n",
              "      border-right-color: var(--fill-color);\n",
              "      border-top-color: var(--fill-color);\n",
              "    }\n",
              "    60% {\n",
              "      border-color: transparent;\n",
              "      border-right-color: var(--fill-color);\n",
              "    }\n",
              "    80% {\n",
              "      border-color: transparent;\n",
              "      border-right-color: var(--fill-color);\n",
              "      border-bottom-color: var(--fill-color);\n",
              "    }\n",
              "    90% {\n",
              "      border-color: transparent;\n",
              "      border-bottom-color: var(--fill-color);\n",
              "    }\n",
              "  }\n",
              "</style>\n",
              "\n",
              "  <script>\n",
              "    async function quickchart(key) {\n",
              "      const quickchartButtonEl =\n",
              "        document.querySelector('#' + key + ' button');\n",
              "      quickchartButtonEl.disabled = true;  // To prevent multiple clicks.\n",
              "      quickchartButtonEl.classList.add('colab-df-spinner');\n",
              "      try {\n",
              "        const charts = await google.colab.kernel.invokeFunction(\n",
              "            'suggestCharts', [key], {});\n",
              "      } catch (error) {\n",
              "        console.error('Error during call to suggestCharts:', error);\n",
              "      }\n",
              "      quickchartButtonEl.classList.remove('colab-df-spinner');\n",
              "      quickchartButtonEl.classList.add('colab-df-quickchart-complete');\n",
              "    }\n",
              "    (() => {\n",
              "      let quickchartButtonEl =\n",
              "        document.querySelector('#df-e170b87b-160a-4cfb-a1ee-38f497fa34e6 button');\n",
              "      quickchartButtonEl.style.display =\n",
              "        google.colab.kernel.accessAllowed ? 'block' : 'none';\n",
              "    })();\n",
              "  </script>\n",
              "</div>\n",
              "    </div>\n",
              "  </div>\n"
            ],
            "application/vnd.google.colaboratory.intrinsic+json": {
              "type": "dataframe",
              "variable_name": "df",
              "summary": "{\n  \"name\": \"df\",\n  \"rows\": 65079,\n  \"fields\": [\n    {\n      \"column\": \"  userID\",\n      \"properties\": {\n        \"dtype\": \"string\",\n        \"num_unique_values\": 41748,\n        \"samples\": [\n          \"8ECFAD5A\",\n          \"64C7383F\",\n          \"4179A5A2\"\n        ],\n        \"semantic_type\": \"\",\n        \"description\": \"\"\n      }\n    },\n    {\n      \"column\": \"Track\",\n      \"properties\": {\n        \"dtype\": \"string\",\n        \"num_unique_values\": 47245,\n        \"samples\": [\n          \"\\u0421\\u0435\\u043d\\u044c\\u0439\\u043e\\u0440\\u0430\",\n          \"Vivaldi: Gloria in D R.589 - Qui tollis\",\n          \"Satellite Of Love\"\n        ],\n        \"semantic_type\": \"\",\n        \"description\": \"\"\n      }\n    },\n    {\n      \"column\": \"artist\",\n      \"properties\": {\n        \"dtype\": \"string\",\n        \"num_unique_values\": 43605,\n        \"samples\": [\n          \"John Cale\",\n          \"Kube\",\n          \"Headcornerstone feat. Uwe Banton\"\n        ],\n        \"semantic_type\": \"\",\n        \"description\": \"\"\n      }\n    },\n    {\n      \"column\": \"genre\",\n      \"properties\": {\n        \"dtype\": \"category\",\n        \"num_unique_values\": 289,\n        \"samples\": [\n          \"film\",\n          \"electropop\",\n          \"neue\"\n        ],\n        \"semantic_type\": \"\",\n        \"description\": \"\"\n      }\n    },\n    {\n      \"column\": \"  City  \",\n      \"properties\": {\n        \"dtype\": \"category\",\n        \"num_unique_values\": 2,\n        \"samples\": [\n          \"Moscow\",\n          \"Saint-Petersburg\"\n        ],\n        \"semantic_type\": \"\",\n        \"description\": \"\"\n      }\n    },\n    {\n      \"column\": \"time\",\n      \"properties\": {\n        \"dtype\": \"object\",\n        \"num_unique_values\": 20392,\n        \"samples\": [\n          \"20:48:00\",\n          \"09:55:02\"\n        ],\n        \"semantic_type\": \"\",\n        \"description\": \"\"\n      }\n    },\n    {\n      \"column\": \"Day\",\n      \"properties\": {\n        \"dtype\": \"category\",\n        \"num_unique_values\": 3,\n        \"samples\": [\n          \"Wednesday\",\n          \"Friday\"\n        ],\n        \"semantic_type\": \"\",\n        \"description\": \"\"\n      }\n    }\n  ]\n}"
            }
          },
          "metadata": {},
          "execution_count": 45
        }
      ],
      "source": [
        "import pandas as pd\n",
        "df = pd.read_csv('/content/drive/MyDrive/yandex_music.csv')\n",
        "df.head(10)"
      ]
    },
    {
      "cell_type": "code",
      "execution_count": null,
      "metadata": {
        "colab": {
          "base_uri": "https://localhost:8080/"
        },
        "id": "LSntfzpr_bKx",
        "outputId": "33cbefb3-c080-4242-cca8-b7d21f8f2568"
      },
      "outputs": [
        {
          "output_type": "stream",
          "name": "stdout",
          "text": [
            "<class 'pandas.core.frame.DataFrame'>\n",
            "RangeIndex: 65079 entries, 0 to 65078\n",
            "Data columns (total 7 columns):\n",
            " #   Column    Non-Null Count  Dtype \n",
            "---  ------    --------------  ----- \n",
            " 0     userID  65079 non-null  object\n",
            " 1   Track     63848 non-null  object\n",
            " 2   artist    57876 non-null  object\n",
            " 3   genre     63881 non-null  object\n",
            " 4     City    65079 non-null  object\n",
            " 5   time      65079 non-null  object\n",
            " 6   Day       65079 non-null  object\n",
            "dtypes: object(7)\n",
            "memory usage: 3.5+ MB\n"
          ]
        }
      ],
      "source": [
        "df.info()"
      ]
    },
    {
      "cell_type": "markdown",
      "metadata": {
        "id": "1jUUeXhc-33i"
      },
      "source": [
        "Метод info() возвращает названия столбцов таблицы и сведения о типах данных в ней. Итак, наши проблемы:\n",
        "\n",
        "•\tВ начале названия одного столбца явно есть несколько лишних пробелов. От них нужно избавиться.\n",
        "\n",
        "•\tНазвание из двух слов содержит пробел, который необходимо заменить на символ нижнего подчёркивания.\n",
        "\n",
        "•\tНазвания должны быть на одном языке и набраны в одном регистре, чтобы не заучивать уникальный формат для каждого столбца.\n",
        "\n",
        "•\tКаждый столбец содержит определённый признак — крайне желательно, чтобы название столбца отражало в краткой форме, какая информация в нём содержится.\n",
        "\n",
        "Рассмотрим  таблицу с расстояниями (в миллионах километров) от Земли до небесных тел.\n"
      ]
    },
    {
      "cell_type": "code",
      "execution_count": null,
      "metadata": {
        "id": "50Idx5rN-33i"
      },
      "outputs": [],
      "source": [
        "import pandas as pd\n",
        "measurements = [['Солнце',146,152], # Измерения хранятся в списке списков\n",
        "              ['Луна',0.36, 0.41], # measurements (англ. measurement, «измерение»).\n",
        "              ['Меркурий',82, 217],\n",
        "              ['Венера',38, 261],\n",
        "              ['Марс',56,401],\n",
        "              ['Юпитер',588, 968],\n",
        "              ['Сатурн',1195, 1660],\n",
        "              ['Уран',2750, 3150],\n",
        "              ['Нептун', 4300, 4700],\n",
        "              ['Комета Галлея', 6, 5400]]\n",
        "# Названия столбцов хранятся в переменной header.\n",
        "header = ['Небесные тела ','MIN', 'MAX']\n",
        "# Сохраним структуру данных в переменной celestial (англ. celestial, «небесный»).\n",
        "celestial = pd.DataFrame(data = measurements, columns = header)"
      ]
    },
    {
      "cell_type": "markdown",
      "metadata": {
        "id": "f37GSyeH-33i"
      },
      "source": [
        "Заметно, что столбцы называются на разных языках. Название Небесные тела содержит опасный пробел в конце, и слова этого названия разделены пробелом.\n",
        "\n",
        "Символы за пределами базовой латиницы — недруги аналитика; от них надо избавляться в первую очередь. Правильно будет переименовать «Небесные тела» в celestial_bodies. MIN и MAX уже написаны латиницей, но эти сокращения мало говорят о том, что за цифры записаны в соответствующих столбцах. Хорошее решение — назвать их min_distance и max_distance. Так сразу понятно, что это минимальные и максимальные расстояния.\n",
        "\n",
        "Чтобы изменить названия столбцов, воспользуйтесь методом set_axis(). Он принимает три аргумента:\n",
        "\n",
        "•\tcписок с новыми названиями столбцов;\n",
        "\n",
        "•\taxis — ось, которой новые названия присваиваются: 'index', если они даются строкам, и 'columns', если это список новых названий столбцов;\n",
        "\n",
        "•\tinplace. Принимает значения True либо False. В первом случае метод set_axis() перестраивает структуру данных так, что она замещает прежнюю в переменной с тем же именем.\n",
        "\n"
      ]
    },
    {
      "cell_type": "code",
      "execution_count": null,
      "metadata": {
        "colab": {
          "base_uri": "https://localhost:8080/"
        },
        "id": "BI6X8DjH-33i",
        "outputId": "6c56cecf-dfbf-42c4-b999-8409d70fe0d9"
      },
      "outputs": [
        {
          "output_type": "stream",
          "name": "stdout",
          "text": [
            "  celestial_bodies  min_distance  max_distance\n",
            "0           Солнце        146.00        152.00\n",
            "1             Луна          0.36          0.41\n",
            "2         Меркурий         82.00        217.00\n",
            "3           Венера         38.00        261.00\n",
            "4             Марс         56.00        401.00\n",
            "5           Юпитер        588.00        968.00\n",
            "6           Сатурн       1195.00       1660.00\n",
            "7             Уран       2750.00       3150.00\n",
            "8           Нептун       4300.00       4700.00\n",
            "9    Комета Галлея          6.00       5400.00\n"
          ]
        }
      ],
      "source": [
        "#Заменим названия столбцов таблицы с небесными телами.\n",
        "celestial.rename(columns={'Небесные тела ': 'celestial_bodies', 'MIN': 'min_distance', 'MAX': 'max_distance'}, inplace=True)\n",
        "\n",
        "print(celestial)"
      ]
    },
    {
      "cell_type": "markdown",
      "metadata": {
        "id": "XP110RhP-33j"
      },
      "source": [
        "Готово! Теперь эта таблица годится для анализа. Давайте проверим названия столбцов в данных Яндекс.Музыки.\n",
        "\n",
        "**Задача**   \n",
        "1.\n",
        "Выведите список столбцов.\n",
        "\n",
        "2.\n",
        "Подготовьте список new_names с новыми именами для столбцов.\n",
        "\n",
        "•\tuser_id → user_id\n",
        "\n",
        "•\ttotal play → total_play_seconds\n",
        "\n",
        "•\tArtist → artist_name\n",
        "\n",
        "•\tgenre → genre_name\n",
        "\n",
        "•\ttrack → track_name\n",
        "\n",
        "3.\n",
        "Переименуем столбцы таблицы, которая хранится в переменной df.\n",
        "Вызовите метод set_axis() и передайте ему список new_names, а значением аргумента inplace установите True.\n",
        "\n",
        "4.\n",
        "Проверьте, что получилось, запросив для нашей структуры данных df атрибут columns.\n",
        "\n"
      ]
    },
    {
      "cell_type": "code",
      "execution_count": null,
      "metadata": {
        "colab": {
          "base_uri": "https://localhost:8080/"
        },
        "id": "HvRMo8O6-33j",
        "outputId": "9fcb4ed5-f6ac-4e7d-acb5-6fe0965b44e4"
      },
      "outputs": [
        {
          "output_type": "stream",
          "name": "stdout",
          "text": [
            "        user_id                         track_name       artist_name  \\\n",
            "0      FFB692EC                  Kamigata To Boots  The Mass Missile   \n",
            "1      55204538        Delayed Because of Accident  Andreas Rönnberg   \n",
            "2        20EC38                  Funiculì funiculà       Mario Lanza   \n",
            "3      A3DD03C9              Dragons in the Sunset        Fire + Ice   \n",
            "4      E2DC1FAE                        Soul People        Space Echo   \n",
            "...         ...                                ...               ...   \n",
            "65074  729CBB09                            My Name            McLean   \n",
            "65075  D08D4A55  Maybe One Day (feat. Black Spade)       Blu & Exile   \n",
            "65076  C5E3A0D5                          Jalopiina               NaN   \n",
            "65077  321D0506                      Freight Train     Chas McDevitt   \n",
            "65078  3A64EF84          Tell Me Sweet Little Lies      Monica Lopez   \n",
            "\n",
            "       genre_name              city total_play_seconds        day  \n",
            "0            rock  Saint-Petersburg           20:28:33  Wednesday  \n",
            "1            rock            Moscow           14:07:09     Friday  \n",
            "2             pop  Saint-Petersburg           20:58:07  Wednesday  \n",
            "3            folk  Saint-Petersburg           08:37:09     Monday  \n",
            "4           dance            Moscow           08:34:34     Monday  \n",
            "...           ...               ...                ...        ...  \n",
            "65074         rnb            Moscow           13:32:28  Wednesday  \n",
            "65075         hip  Saint-Petersburg           10:00:00     Monday  \n",
            "65076  industrial            Moscow           20:09:26     Friday  \n",
            "65077        rock            Moscow           21:43:59     Friday  \n",
            "65078     country            Moscow           21:59:46     Friday  \n",
            "\n",
            "[65079 rows x 7 columns]\n"
          ]
        }
      ],
      "source": [
        "headers = {'  userID':'user_id',\n",
        "          'Track':'track_name',\n",
        "          'artist':'artist_name',\n",
        "          'genre':'genre_name',\n",
        "          '  City  ': 'city',\n",
        "          'time':'total_play_seconds',\n",
        "          'Day': 'day'}\n",
        "\n",
        "df.rename(columns=headers, inplace=True)\n",
        "\n",
        "print(df)"
      ]
    },
    {
      "cell_type": "markdown",
      "metadata": {
        "id": "KPbf6WWd-33j"
      },
      "source": [
        "## Обработка пропущенных значений\n",
        "\n",
        "Замены пропущенных значений в DataFrame бывают трёх видов:\n",
        "\n",
        "1) Ожидаемые: None или NaN. None — это эквивалент null в других языках программирования: особое значение, указывающее, что в этой ячейке таблицы никакого значения нет. None относится к NoneType. NaN говорит о том, что в ячейке находится «не число». Основное отличие NaN в том, что его можно использовать в математических операциях, так как по типу это число с плавающей запятой.\n",
        "\n",
        "2) Странные: плейсхолдеры (тексты-заполнители) какого-нибудь общепринятого стандарта, иногда неизвестного вам, но которого придерживаются составители. Чаще всего это n/a, na, NA, и N.N. либо NN.\n",
        "\n",
        "3) Неожиданные: например, разработчики решили, что пустые значения в таблице будут заполняться знаками вопроса или нулями. В лучшем случае этот факт укажут в документации, в худшем – придётся просматривать данные самостоятельно. Если какой-нибудь спецсимвол или число встречаются часто, и этому нет внятного объяснения, то высока вероятность, что так передаются пропущенные значения.\n",
        "\n",
        "Но будьте осторожны: иногда нули — это действительно нули, как в наборе данных Яндекс.Музыкка, где ноль показывает, что трек был пропущен (его слушали 0 секунд).\n"
      ]
    },
    {
      "cell_type": "markdown",
      "metadata": {
        "id": "gW7JhCY--33j"
      },
      "source": [
        "Рассмотрим методы борьбы с пропущенными значениями на примере данных ВОЗ о заболеваемости холерой в 2017 году:"
      ]
    },
    {
      "cell_type": "code",
      "execution_count": null,
      "metadata": {
        "id": "NGHBmgNH-33j"
      },
      "outputs": [],
      "source": [
        "cholera=pd.read_csv('/content/drive/MyDrive/сholera.csv', sep=';')"
      ]
    },
    {
      "cell_type": "code",
      "execution_count": null,
      "metadata": {
        "id": "l0ZavBSI-33k",
        "outputId": "d788fa02-dfd1-4e00-a74b-dd5299bd536c",
        "colab": {
          "base_uri": "https://localhost:8080/"
        }
      },
      "outputs": [
        {
          "output_type": "stream",
          "name": "stdout",
          "text": [
            "     region                   country  total_cases  imported_cases  deaths  \\\n",
            "0      Азия                Афганистан         33.0             0.0     1.0   \n",
            "1      Азия                     Индия        385.0             NaN     3.0   \n",
            "2      Азия                      Иран        634.0           625.0     4.0   \n",
            "3      Азия                     Йемен    1032481.0             0.0  2261.0   \n",
            "4      Азия                     Китай         14.0             NaN     0.0   \n",
            "5      Азия                     Катар          5.0             5.0     0.0   \n",
            "6      Азия                  Малайзия          2.0             0.0     0.0   \n",
            "7      Азия                     Непал          7.0             NaN     0.0   \n",
            "8      Азия                       ОАЭ         12.0            12.0     0.0   \n",
            "9      Азия         Саудовская Аравия          5.0             5.0     0.0   \n",
            "10     Азия                  Сингапур          3.0             3.0     0.0   \n",
            "11     Азия                   Таиланд          8.0             0.0     0.0   \n",
            "12     Азия                 Филиппины        134.0             NaN     2.0   \n",
            "13     Азия               Южная Корея          5.0             5.0     0.0   \n",
            "14     Азия                    Япония          7.0             5.0     0.0   \n",
            "15  Америка                     Гаити      13681.0             0.0   159.0   \n",
            "16  Америка  Доминиканская Республика        122.0             0.0     4.0   \n",
            "17  Америка                    Канада          4.0             3.0     0.0   \n",
            "18  Америка                       США         11.0             9.0     0.0   \n",
            "19   Африка                Все страны     179835.0             NaN  3220.0   \n",
            "20   Европа                Все страны          NaN             NaN     NaN   \n",
            "21  Океания                 Австралия          3.0             3.0     0.0   \n",
            "22      Мир                Все страны    1227391.0           675.0  5654.0   \n",
            "\n",
            "    case_fatality_rate                              notes  \n",
            "0                  3.0                                NaN  \n",
            "1                  0.7                                NaN  \n",
            "2                  0.6                                NaN  \n",
            "3                  0.2                                NaN  \n",
            "4                  0.0                                NaN  \n",
            "5                  0.0                                NaN  \n",
            "6                  0.0                                NaN  \n",
            "7                  0.0                                NaN  \n",
            "8                  0.0                                NaN  \n",
            "9                  0.0                                NaN  \n",
            "10                 0.0                                NaN  \n",
            "11                 0.0                                NaN  \n",
            "12                 1.5                                NaN  \n",
            "13                 0.0                                NaN  \n",
            "14                 0.0                                NaN  \n",
            "15                 1.2                                NaN  \n",
            "16                 3.3                                NaN  \n",
            "17                 0.0                                NaN  \n",
            "18                 0.0                                NaN  \n",
            "19                 1.8  нет информации о завозных случаях  \n",
            "20                 NaN          нет сообщений за 2017 год  \n",
            "21                 0.0                                NaN  \n",
            "22                 0.5                                NaN  \n"
          ]
        }
      ],
      "source": [
        "print(cholera)"
      ]
    },
    {
      "cell_type": "markdown",
      "metadata": {
        "id": "HgCyJGBK-33k"
      },
      "source": [
        "Для разных регионов (столбец 'region') и стран ('country') указано общее число случаев заболевания холерой\n",
        "('total_cases'), в том числе завозные случаи ('imported_cases') и смертельные ('deaths').\n",
        "\n",
        "Всё это целые числа, поскольку данные приведены с точностью до человека.\n",
        "Источник: Всемирная организация здравоохранения, Weekly Epidemiological Record), 21 September 2018, vol. 93, 38, pp. 489–500.\n",
        "\n",
        "Посчитать в каждом столбце отсутствующие значения можно методом **.isnull()**.\n",
        "Если значение элемента не существует, **.isnull()** возвращает True, а иначе — False.\n",
        "Суммируют эти True вызовом метода **sum()**, который в этом случае возвращает общее число элементов без\n",
        "определённых значений.\n"
      ]
    },
    {
      "cell_type": "code",
      "execution_count": null,
      "metadata": {
        "id": "G5TX8r-z-33k",
        "outputId": "5d4d3a77-9e3f-4a68-ad34-a9c25e376c27",
        "colab": {
          "base_uri": "https://localhost:8080/"
        }
      },
      "outputs": [
        {
          "output_type": "stream",
          "name": "stdout",
          "text": [
            "region                 0\n",
            "country                0\n",
            "total_cases            1\n",
            "imported_cases         6\n",
            "deaths                 1\n",
            "case_fatality_rate     1\n",
            "notes                 21\n",
            "dtype: int64\n"
          ]
        }
      ],
      "source": [
        "print(cholera.isnull().sum())"
      ]
    },
    {
      "cell_type": "markdown",
      "metadata": {
        "id": "MxRqixgR-33k"
      },
      "source": [
        "Также подойдёт метод **isna()**, подсчитывающий пустые значения. В таблице по холере пропущенные значения качественные, так что этот метод отыщет их все."
      ]
    },
    {
      "cell_type": "code",
      "execution_count": null,
      "metadata": {
        "id": "mUAL8MUa-33k",
        "outputId": "3bb31389-6370-4fa3-ebce-e1599bca16b0",
        "colab": {
          "base_uri": "https://localhost:8080/"
        }
      },
      "outputs": [
        {
          "output_type": "stream",
          "name": "stdout",
          "text": [
            "region                 0\n",
            "country                0\n",
            "total_cases            1\n",
            "imported_cases         6\n",
            "deaths                 1\n",
            "case_fatality_rate     1\n",
            "notes                 21\n",
            "dtype: int64\n"
          ]
        }
      ],
      "source": [
        "print(cholera.isna().sum())"
      ]
    },
    {
      "cell_type": "markdown",
      "metadata": {
        "id": "i6L45GZ2-33k"
      },
      "source": [
        "Метод борьбы с пропущенными значениями, который вы выберете, должен учитывать интересы решения конечной задачи бизнеса. В целом есть два пути: заполнить пропущенные значения на основе имеющихся данных или удалить все строки с пропущенными значениями."
      ]
    },
    {
      "cell_type": "markdown",
      "metadata": {
        "id": "W8D1l2Zi-33k"
      },
      "source": [
        "Бизнес разрывается между двумя решениями: как потратить не слишком много времени и как не упустить данные, которые обычно чего-то стоят.\n",
        "\n",
        "Если сейчас пойти по пути удаления всех строк, где есть пропущенные значения, можно потерять важные данные, например, в Африке было зафиксировано 179835 случаев заболевания, но ни одного завозного случая (это сейчас отмечено NaN). Удалив эту строку, мы потеряем важные данные для статистики.\n",
        "\n",
        "Другая ситуация с Европой. Вся строка состоит из пропущенных значений. Примечание сообщает, что в 2017 году европейцы холерой не болели. Значит, строку можно удалить и это никак не повлияет на результат.\n",
        "Чтобы не лишиться строк с важными данными, заполним значения NaN в столбце **'imported_cases'** нулями.\n",
        "Для этого лучше всего использовать метод **fillna()**, где в качестве аргумента выступает заменитель отсутствующих значений.\n",
        "\n",
        "\n",
        "\n"
      ]
    },
    {
      "cell_type": "code",
      "execution_count": null,
      "metadata": {
        "id": "teP8hexW-33k",
        "outputId": "8e0eccc8-3bd2-472d-e583-385ec2ac718f",
        "colab": {
          "base_uri": "https://localhost:8080/"
        }
      },
      "outputs": [
        {
          "output_type": "stream",
          "name": "stdout",
          "text": [
            "     region                   country  total_cases  imported_cases  deaths  \\\n",
            "0      Азия                Афганистан         33.0             0.0     1.0   \n",
            "1      Азия                     Индия        385.0             0.0     3.0   \n",
            "2      Азия                      Иран        634.0           625.0     4.0   \n",
            "3      Азия                     Йемен    1032481.0             0.0  2261.0   \n",
            "4      Азия                     Китай         14.0             0.0     0.0   \n",
            "5      Азия                     Катар          5.0             5.0     0.0   \n",
            "6      Азия                  Малайзия          2.0             0.0     0.0   \n",
            "7      Азия                     Непал          7.0             0.0     0.0   \n",
            "8      Азия                       ОАЭ         12.0            12.0     0.0   \n",
            "9      Азия         Саудовская Аравия          5.0             5.0     0.0   \n",
            "10     Азия                  Сингапур          3.0             3.0     0.0   \n",
            "11     Азия                   Таиланд          8.0             0.0     0.0   \n",
            "12     Азия                 Филиппины        134.0             0.0     2.0   \n",
            "13     Азия               Южная Корея          5.0             5.0     0.0   \n",
            "14     Азия                    Япония          7.0             5.0     0.0   \n",
            "15  Америка                     Гаити      13681.0             0.0   159.0   \n",
            "16  Америка  Доминиканская Республика        122.0             0.0     4.0   \n",
            "17  Америка                    Канада          4.0             3.0     0.0   \n",
            "18  Америка                       США         11.0             9.0     0.0   \n",
            "19   Африка                Все страны     179835.0             0.0  3220.0   \n",
            "20   Европа                Все страны          NaN             0.0     NaN   \n",
            "21  Океания                 Австралия          3.0             3.0     0.0   \n",
            "22      Мир                Все страны    1227391.0           675.0  5654.0   \n",
            "\n",
            "    case_fatality_rate                              notes  \n",
            "0                  3.0                                NaN  \n",
            "1                  0.7                                NaN  \n",
            "2                  0.6                                NaN  \n",
            "3                  0.2                                NaN  \n",
            "4                  0.0                                NaN  \n",
            "5                  0.0                                NaN  \n",
            "6                  0.0                                NaN  \n",
            "7                  0.0                                NaN  \n",
            "8                  0.0                                NaN  \n",
            "9                  0.0                                NaN  \n",
            "10                 0.0                                NaN  \n",
            "11                 0.0                                NaN  \n",
            "12                 1.5                                NaN  \n",
            "13                 0.0                                NaN  \n",
            "14                 0.0                                NaN  \n",
            "15                 1.2                                NaN  \n",
            "16                 3.3                                NaN  \n",
            "17                 0.0                                NaN  \n",
            "18                 0.0                                NaN  \n",
            "19                 1.8  нет информации о завозных случаях  \n",
            "20                 NaN          нет сообщений за 2017 год  \n",
            "21                 0.0                                NaN  \n",
            "22                 0.5                                NaN  \n"
          ]
        }
      ],
      "source": [
        "cholera['imported_cases']=cholera['imported_cases'].fillna(0)\n",
        "print(cholera)"
      ]
    },
    {
      "cell_type": "markdown",
      "metadata": {
        "id": "cck7_iJr-33k"
      },
      "source": [
        "От строк с нулевыми значениями избавляются методом **dropna()**. Он удаляет любую строку, где есть хоть одно отсутствующее значение.\n",
        "\n",
        "У этого метода есть аргументы:\n",
        "\n",
        "1.\t**subset = [ ]**. Его значением указывают названия столбцов, где нужно искать пропуски.\n",
        "\n",
        "2.\tУже знакомый нам **inplace**.\n",
        "\n"
      ]
    },
    {
      "cell_type": "code",
      "execution_count": null,
      "metadata": {
        "id": "_UuIniBZ-33k",
        "outputId": "0bbf5b3f-4d01-4007-f9b8-f62bb1f40835",
        "colab": {
          "base_uri": "https://localhost:8080/"
        }
      },
      "outputs": [
        {
          "output_type": "stream",
          "name": "stdout",
          "text": [
            "     region                   country  total_cases  imported_cases  deaths  \\\n",
            "0      Азия                Афганистан         33.0             0.0     1.0   \n",
            "1      Азия                     Индия        385.0             0.0     3.0   \n",
            "2      Азия                      Иран        634.0           625.0     4.0   \n",
            "3      Азия                     Йемен    1032481.0             0.0  2261.0   \n",
            "4      Азия                     Китай         14.0             0.0     0.0   \n",
            "5      Азия                     Катар          5.0             5.0     0.0   \n",
            "6      Азия                  Малайзия          2.0             0.0     0.0   \n",
            "7      Азия                     Непал          7.0             0.0     0.0   \n",
            "8      Азия                       ОАЭ         12.0            12.0     0.0   \n",
            "9      Азия         Саудовская Аравия          5.0             5.0     0.0   \n",
            "10     Азия                  Сингапур          3.0             3.0     0.0   \n",
            "11     Азия                   Таиланд          8.0             0.0     0.0   \n",
            "12     Азия                 Филиппины        134.0             0.0     2.0   \n",
            "13     Азия               Южная Корея          5.0             5.0     0.0   \n",
            "14     Азия                    Япония          7.0             5.0     0.0   \n",
            "15  Америка                     Гаити      13681.0             0.0   159.0   \n",
            "16  Америка  Доминиканская Республика        122.0             0.0     4.0   \n",
            "17  Америка                    Канада          4.0             3.0     0.0   \n",
            "18  Америка                       США         11.0             9.0     0.0   \n",
            "19   Африка                Все страны     179835.0             0.0  3220.0   \n",
            "21  Океания                 Австралия          3.0             3.0     0.0   \n",
            "22      Мир                Все страны    1227391.0           675.0  5654.0   \n",
            "\n",
            "    case_fatality_rate                              notes  \n",
            "0                  3.0                                NaN  \n",
            "1                  0.7                                NaN  \n",
            "2                  0.6                                NaN  \n",
            "3                  0.2                                NaN  \n",
            "4                  0.0                                NaN  \n",
            "5                  0.0                                NaN  \n",
            "6                  0.0                                NaN  \n",
            "7                  0.0                                NaN  \n",
            "8                  0.0                                NaN  \n",
            "9                  0.0                                NaN  \n",
            "10                 0.0                                NaN  \n",
            "11                 0.0                                NaN  \n",
            "12                 1.5                                NaN  \n",
            "13                 0.0                                NaN  \n",
            "14                 0.0                                NaN  \n",
            "15                 1.2                                NaN  \n",
            "16                 3.3                                NaN  \n",
            "17                 0.0                                NaN  \n",
            "18                 0.0                                NaN  \n",
            "19                 1.8  нет информации о завозных случаях  \n",
            "21                 0.0                                NaN  \n",
            "22                 0.5                                NaN  \n"
          ]
        }
      ],
      "source": [
        "cholera.dropna(subset=['total_cases', 'deaths'], inplace=True)\n",
        "print(cholera)"
      ]
    },
    {
      "cell_type": "markdown",
      "metadata": {
        "id": "BD_MXcq_-33k"
      },
      "source": [
        "Теперь удалим правый столбец с пропущенными значениями.\n",
        "\n",
        "Снова вызываем метод **dropna()**. Как и **set_axis()**, он имеет ещё и аргумент **axis**. Если этому аргументу присвоить значение **'columns'**, он удалит любой столбец, где есть хоть один пропуск.\n",
        "\n"
      ]
    },
    {
      "cell_type": "code",
      "execution_count": null,
      "metadata": {
        "id": "IY0kEw0C-33l",
        "outputId": "96b0ee6f-3bdf-4a42-d130-82acc75213c9",
        "colab": {
          "base_uri": "https://localhost:8080/"
        }
      },
      "outputs": [
        {
          "output_type": "stream",
          "name": "stdout",
          "text": [
            "     region                   country  total_cases  imported_cases  deaths  \\\n",
            "0      Азия                Афганистан         33.0             0.0     1.0   \n",
            "1      Азия                     Индия        385.0             0.0     3.0   \n",
            "2      Азия                      Иран        634.0           625.0     4.0   \n",
            "3      Азия                     Йемен    1032481.0             0.0  2261.0   \n",
            "4      Азия                     Китай         14.0             0.0     0.0   \n",
            "5      Азия                     Катар          5.0             5.0     0.0   \n",
            "6      Азия                  Малайзия          2.0             0.0     0.0   \n",
            "7      Азия                     Непал          7.0             0.0     0.0   \n",
            "8      Азия                       ОАЭ         12.0            12.0     0.0   \n",
            "9      Азия         Саудовская Аравия          5.0             5.0     0.0   \n",
            "10     Азия                  Сингапур          3.0             3.0     0.0   \n",
            "11     Азия                   Таиланд          8.0             0.0     0.0   \n",
            "12     Азия                 Филиппины        134.0             0.0     2.0   \n",
            "13     Азия               Южная Корея          5.0             5.0     0.0   \n",
            "14     Азия                    Япония          7.0             5.0     0.0   \n",
            "15  Америка                     Гаити      13681.0             0.0   159.0   \n",
            "16  Америка  Доминиканская Республика        122.0             0.0     4.0   \n",
            "17  Америка                    Канада          4.0             3.0     0.0   \n",
            "18  Америка                       США         11.0             9.0     0.0   \n",
            "19   Африка                Все страны     179835.0             0.0  3220.0   \n",
            "21  Океания                 Австралия          3.0             3.0     0.0   \n",
            "22      Мир                Все страны    1227391.0           675.0  5654.0   \n",
            "\n",
            "    case_fatality_rate  \n",
            "0                  3.0  \n",
            "1                  0.7  \n",
            "2                  0.6  \n",
            "3                  0.2  \n",
            "4                  0.0  \n",
            "5                  0.0  \n",
            "6                  0.0  \n",
            "7                  0.0  \n",
            "8                  0.0  \n",
            "9                  0.0  \n",
            "10                 0.0  \n",
            "11                 0.0  \n",
            "12                 1.5  \n",
            "13                 0.0  \n",
            "14                 0.0  \n",
            "15                 1.2  \n",
            "16                 3.3  \n",
            "17                 0.0  \n",
            "18                 0.0  \n",
            "19                 1.8  \n",
            "21                 0.0  \n",
            "22                 0.5  \n"
          ]
        }
      ],
      "source": [
        "cholera.dropna(axis = 'columns', inplace = True)\n",
        "print(cholera)\n"
      ]
    },
    {
      "cell_type": "markdown",
      "metadata": {
        "id": "pPLzsYD0-33l"
      },
      "source": [
        "Теперь таблица готова к дальнейшему изучению: ненужные пропуски удалены, но при этом сохранены важные данные.\n",
        "Пропуски в данных появляются разными путями. Например, пользователь не указал о себе какие-нибудь сведения или автоматизированная система сбора информации дала сбой. Иногда пропуски оставляют умышленно, рассчитывая на автозаполнение спецсимволами.\n",
        "\n",
        "\n",
        "Давайте разберёмся с пропущенными значениями в данных для задачи Яндекс.Музыки.\n",
        "\n",
        "# Задача\n",
        "\n",
        "1.Просмотрите информацию о наборе данных: воспользуйтесь методом info().\n",
        "\n",
        "2. Посчитайте количество пропущенных значений и выведите его на экран.\n",
        "\n",
        "3. Для решения поставленной менеджером задачи важно сохранить содержание столбца 'genre_name'. Если по какой-то причине имя исполнителя и название трека оказались упущены, а жанр композиции известен, эту строку надо сберечь.\n",
        "Заполните отсутствующие значения столбца 'track_name' строкой 'unknown'.\n",
        "\n",
        "4. Заполните отсутствующие значения столбца 'artist_name' словом unknown.\n",
        "\n",
        "5. Удалите пропущенные значения из столбца 'genre_name'.\n",
        "\n",
        "6. Проверьте полученный результат. Просмотрите информацию о наборе данных: воспользуйтесь методом info().\n",
        "\n"
      ]
    },
    {
      "cell_type": "markdown",
      "source": [
        "Задача 1"
      ],
      "metadata": {
        "id": "QZM1C9ELFVsv"
      }
    },
    {
      "cell_type": "code",
      "source": [
        "df.info()"
      ],
      "metadata": {
        "colab": {
          "base_uri": "https://localhost:8080/"
        },
        "id": "XoJz-zJhDBEe",
        "outputId": "46c25af0-2c1f-4273-fe4c-bda30bfad676"
      },
      "execution_count": null,
      "outputs": [
        {
          "output_type": "stream",
          "name": "stdout",
          "text": [
            "<class 'pandas.core.frame.DataFrame'>\n",
            "RangeIndex: 65079 entries, 0 to 65078\n",
            "Data columns (total 7 columns):\n",
            " #   Column              Non-Null Count  Dtype \n",
            "---  ------              --------------  ----- \n",
            " 0   user_id             65079 non-null  object\n",
            " 1   track_name          63848 non-null  object\n",
            " 2   artist_name         57876 non-null  object\n",
            " 3   genre_name          63881 non-null  object\n",
            " 4   city                65079 non-null  object\n",
            " 5   total_play_seconds  65079 non-null  object\n",
            " 6   day                 65079 non-null  object\n",
            "dtypes: object(7)\n",
            "memory usage: 3.5+ MB\n"
          ]
        }
      ]
    },
    {
      "cell_type": "markdown",
      "source": [
        "Задача 2"
      ],
      "metadata": {
        "id": "9iOjFtNJFX7u"
      }
    },
    {
      "cell_type": "code",
      "source": [
        "missing_values = df.isnull().sum().sum()\n",
        "print(\"Количество пропущенных значений:\", missing_values)"
      ],
      "metadata": {
        "colab": {
          "base_uri": "https://localhost:8080/"
        },
        "id": "DY4JS6ebE-In",
        "outputId": "95f8162f-3600-405c-cb89-f93b8f9c0892"
      },
      "execution_count": null,
      "outputs": [
        {
          "output_type": "stream",
          "name": "stdout",
          "text": [
            "Количество пропущенных значений: 9632\n"
          ]
        }
      ]
    },
    {
      "cell_type": "markdown",
      "source": [
        "Задача 3"
      ],
      "metadata": {
        "id": "vLmoRbNYFZwt"
      }
    },
    {
      "cell_type": "code",
      "source": [
        "df.fillna({'track_name':'unknown'}, inplace=True)"
      ],
      "metadata": {
        "id": "aVkpVzfjFUsH"
      },
      "execution_count": null,
      "outputs": []
    },
    {
      "cell_type": "markdown",
      "source": [
        "Задача 4"
      ],
      "metadata": {
        "id": "8VcykH7BFbMt"
      }
    },
    {
      "cell_type": "code",
      "source": [
        "df.fillna({'artist_name':'unknown'}, inplace=True)"
      ],
      "metadata": {
        "id": "uGu8Bp6AFUcP"
      },
      "execution_count": null,
      "outputs": []
    },
    {
      "cell_type": "markdown",
      "source": [
        "Задача 5"
      ],
      "metadata": {
        "id": "glxXbvACFnDG"
      }
    },
    {
      "cell_type": "code",
      "source": [
        "df = df.dropna(subset=['genre_name'])"
      ],
      "metadata": {
        "id": "si1L6v0qFUM_"
      },
      "execution_count": null,
      "outputs": []
    },
    {
      "cell_type": "markdown",
      "source": [
        "Задача 6"
      ],
      "metadata": {
        "id": "Ap6tBYPsFpLA"
      }
    },
    {
      "cell_type": "code",
      "source": [
        "df.info()"
      ],
      "metadata": {
        "colab": {
          "base_uri": "https://localhost:8080/"
        },
        "id": "5Xnuso9IFqFe",
        "outputId": "2576ba24-883a-473f-d0de-1804216fa00b"
      },
      "execution_count": null,
      "outputs": [
        {
          "output_type": "stream",
          "name": "stdout",
          "text": [
            "<class 'pandas.core.frame.DataFrame'>\n",
            "Index: 63881 entries, 0 to 65078\n",
            "Data columns (total 7 columns):\n",
            " #   Column              Non-Null Count  Dtype \n",
            "---  ------              --------------  ----- \n",
            " 0   user_id             63881 non-null  object\n",
            " 1   track_name          63881 non-null  object\n",
            " 2   artist_name         63881 non-null  object\n",
            " 3   genre_name          63881 non-null  object\n",
            " 4   city                63881 non-null  object\n",
            " 5   total_play_seconds  63881 non-null  object\n",
            " 6   day                 63881 non-null  object\n",
            "dtypes: object(7)\n",
            "memory usage: 3.9+ MB\n"
          ]
        }
      ]
    },
    {
      "cell_type": "markdown",
      "metadata": {
        "id": "LMvA4EbG-33l"
      },
      "source": [
        "## Обработка дубликатов\n",
        "\n",
        "Когда мы говорим о дубликатах (дублированных записях), то представляем себе две одинаковых строки с идентичной информацией. Действительно, это дубликаты, и мы ещё разберём, как от них избавляться.\n",
        "\n",
        "\n",
        "Но бывают и менее явные дубликаты: скажем, две якобы разные категории публикаций. К примеру, «Политика» и «Политическая ситуация». При агрегировании данных эти две категории будут отражены как разные подмножества набора данных, хотя на самом деле все публикации о политике нужно объединить в одну категорию. При всех возможностях Pandas важно изучать данные глазами и обдумывать их. Иначе вас ожидает масса неприятных сюрпризов.\n",
        "\n",
        "\n",
        "Помимо вредного влияния дубликатов на результат, их наличие затягивает процесс анализа. Большое количество повторов неоправданно раздувает размер таблицы, а значит, увеличивает время обработки данных.\n",
        "Грубые дубликаты — повторы — обнаруживают методом **duplicated()**. Он возвращает **Series** со значением **True** при наличии дубликатов, и **False**, когда их нет.\n",
        "\n",
        "**print(df.duplicated())**\n",
        "\n",
        "Чтобы посчитать количество дубликатов в наборе данных, нужно вызвать метод **sum()**:\n",
        "\n",
        "**print(df.duplicated().sum())**\n",
        "\n",
        "Для удаления дубликатов есть метод **drop_duplicates()**:\n",
        "\n",
        "**df.drop_duplicates(inplace = True)**\n",
        "\n",
        "При вызове метода **drop_duplicates()** вместе с повторяющимися строками удаляются их индексы.\n",
        "\n",
        "Последовательность индексов нарушается: после 0 следует 2 и т.д.\n",
        "\n",
        "Поэтому вызов **drop_duplicates()** соединяют в цепочку с вызовом метода **reset_index()**. Тогда создаётся новый **DataFrame**, где старые индексы превращаются в обычный столбец под названием **index**, а индексы всех строк снова следуют в естественном порядке.\n",
        "Если же мы не хотим создавать новый столбец **index**, то при вызове **reset_index()** передаётся аргумент **drop** со значением **True**. Все индексы переписываются в порядке возрастания, без пропусков.\n",
        "\n"
      ]
    },
    {
      "cell_type": "markdown",
      "metadata": {
        "id": "QaQyTprC-33l"
      },
      "source": [
        "Дубликаты в названиях категорий отследить сложнее, но всё-таки можно. Для просмотра всех уникальных значений в столбце используется метод **unique()**.\n",
        "\n",
        "Рассмотрим таблицу с рейтингом первой ракетки мира.\n",
        "\n",
        "\n",
        "\n"
      ]
    },
    {
      "cell_type": "code",
      "execution_count": null,
      "metadata": {
        "id": "XtMKHOQ6-33l",
        "outputId": "b86cccf0-6bd2-4117-b08c-2a250370b83b",
        "colab": {
          "base_uri": "https://localhost:8080/"
        }
      },
      "outputs": [
        {
          "output_type": "stream",
          "name": "stdout",
          "text": [
            "          date            name  points\n",
            "0   2018.01.01  Рафаэль Надаль   10645\n",
            "1   2018.01.08  Рафаэль Надаль   10600\n",
            "2   2018.01.29  Рафаэль Надаль    9760\n",
            "3   2018.02.19  Роджер Федерер   10105\n",
            "4   2018.03.05  Роджер Федерер   10060\n",
            "5   2018.03.19  Роджер Федерер    9660\n",
            "6   2018.04.02  Рафаэль Надаль    8770\n",
            "7   2018.06.18   Roger Federer    8920\n",
            "8   2018.06.25  Рафаэль Надаль    8770\n",
            "9   2018.07.16  Рафаэль Надаль    9310\n",
            "10  2018.08.13  Рафаэль Надаль   10220\n",
            "11  2018.08.20  Рафаэль Надаль   10040\n",
            "12  2018.09.10  Рафаэль Надаль    8760\n",
            "13  2018.10.08  Рафаэль Надаль    8260\n",
            "14  2018.10.15  Рафаэль Надаль    7660\n",
            "15  2018.11.05  Новак Джокович    8045\n",
            "16  2018.11.19  Новак Джокович    9045\n"
          ]
        }
      ],
      "source": [
        "rating = ['date','name','points']\n",
        "players = [\n",
        "['2018.01.01',    'Рафаэль Надаль',10645],\n",
        "['2018.01.08',    'Рафаэль Надаль',    10600],\n",
        "['2018.01.29',    'Рафаэль Надаль',    9760],\n",
        "['2018.02.19',    'Роджер Федерер',    10105],\n",
        "['2018.03.05',    'Роджер Федерер',    10060],\n",
        "['2018.03.19',    'Роджер Федерер',    9660],\n",
        "['2018.04.02',    'Рафаэль Надаль',    8770],\n",
        "['2018.06.18',    'Roger Federer',    8920],\n",
        "['2018.06.25',    'Рафаэль Надаль',    8770],\n",
        "['2018.07.16',    'Рафаэль Надаль',    9310],\n",
        "['2018.08.13',    'Рафаэль Надаль',    10220],\n",
        "['2018.08.20',    'Рафаэль Надаль',    10040],\n",
        "['2018.09.10',    'Рафаэль Надаль',    8760],\n",
        "['2018.10.08',    'Рафаэль Надаль',    8260],\n",
        "['2018.10.15',    'Рафаэль Надаль',    7660],\n",
        "['2018.11.05',    'Новак Джокович',    8045],\n",
        "['2018.11.19',    'Новак Джокович',    9045]\n",
        "]\n",
        "tennis = pd.DataFrame(data = players, columns= rating)\n",
        "print(tennis)\n"
      ]
    },
    {
      "cell_type": "markdown",
      "metadata": {
        "id": "hVtcMGAX-33l"
      },
      "source": [
        "В 2018 году рейтинг первой ракетки мира по версии ATP обновлялся 17 раз. Но спортсменов с самым большим в мире профессионального тенниса рейтингом гораздо меньше. Если применить ко второму столбцу метод **unique()**, возвращаются только три имени."
      ]
    },
    {
      "cell_type": "code",
      "execution_count": null,
      "metadata": {
        "id": "GGAgXX7B-33l",
        "outputId": "dde36a98-1181-425e-9a46-7e2a4babd037",
        "colab": {
          "base_uri": "https://localhost:8080/"
        }
      },
      "outputs": [
        {
          "output_type": "stream",
          "name": "stdout",
          "text": [
            "['Рафаэль Надаль' 'Роджер Федерер' 'Roger Federer' 'Новак Джокович']\n"
          ]
        }
      ],
      "source": [
        "print(tennis['name'].unique())"
      ]
    },
    {
      "cell_type": "markdown",
      "metadata": {
        "id": "0vSPHjjN-33l"
      },
      "source": [
        "Кроме имени Роджера Федерера на русском языке, вернулось его же имя латиницей. Это тоже дубликат. Нужно заменить этот артефакт правильным именем на русском языке.\n",
        "Такие задачи решает метод **replace()**, где первый аргумент — текущее значение, а второй — новое, нужное.\n"
      ]
    },
    {
      "cell_type": "code",
      "execution_count": null,
      "metadata": {
        "id": "am-6lIe0-33l",
        "outputId": "ce0f7382-4c09-44ea-99a4-14d67bef3bb9",
        "colab": {
          "base_uri": "https://localhost:8080/"
        }
      },
      "outputs": [
        {
          "output_type": "stream",
          "name": "stdout",
          "text": [
            "0     Рафаэль Надаль\n",
            "1     Рафаэль Надаль\n",
            "2     Рафаэль Надаль\n",
            "3     Роджер Федерер\n",
            "4     Роджер Федерер\n",
            "5     Роджер Федерер\n",
            "6     Рафаэль Надаль\n",
            "7     Роджер Федерер\n",
            "8     Рафаэль Надаль\n",
            "9     Рафаэль Надаль\n",
            "10    Рафаэль Надаль\n",
            "11    Рафаэль Надаль\n",
            "12    Рафаэль Надаль\n",
            "13    Рафаэль Надаль\n",
            "14    Рафаэль Надаль\n",
            "15    Новак Джокович\n",
            "16    Новак Джокович\n",
            "Name: name, dtype: object\n"
          ]
        }
      ],
      "source": [
        "tennis['name'] = tennis['name'].replace('Roger Federer', 'Роджер Федерер')\n",
        "print(tennis['name'])"
      ]
    },
    {
      "cell_type": "markdown",
      "metadata": {
        "id": "wMBzbM4E-33l"
      },
      "source": [
        "Теперь всё хорошо. Настало время разобраться с дубликатами в таблице данных Яндекс.Музыки.\n",
        "# Задача  \n",
        "\n",
        "1.Сохраните текущий размер таблицы в переменной shape_table.\n",
        "\n",
        "2. Посчитайте и выведите на экран суммарное количество дубликатов в таблице.\n",
        "\n",
        "3. Удалите дубликаты. Используйте метод reset_index() для сохранения порядка индексов.\n",
        "\n",
        "4. Сохраните в переменную shape_table_update размер таблицы после удаления дубликатов.\n",
        "\n",
        "5. Сравните переменные shape_table и shape_table_update. Если они равны, выведите сообщение 'Размер таблицы не изменился, текущий размер: ' и значение переменной shape_table_update.\n",
        "\n",
        "6. Получите уникальные значения столбца 'genre_name', используйте метод unique(). Просмотрите результат и найдите название жанра, которое выпадает из общего ряда.\n",
        "\n",
        "7. В столбце 'genre_name' замените значение 'электроника' на 'electronic' .\n",
        "\n",
        "8. Оцените изменения: пересчитайте количество значений 'электроника' в столбце 'genre_name'. Если удалось всё заменить, результат должен быть равен 0. Сохраните этот результат в переменной genre_final_count, выведите на экран.\n",
        "\n"
      ]
    },
    {
      "cell_type": "markdown",
      "source": [
        "Задача 1"
      ],
      "metadata": {
        "id": "lx0DB-8ZF_4Z"
      }
    },
    {
      "cell_type": "code",
      "execution_count": null,
      "metadata": {
        "id": "SfRCbMs3-33l",
        "colab": {
          "base_uri": "https://localhost:8080/"
        },
        "outputId": "2855b613-b31d-48d5-fc79-a19bc73ea621"
      },
      "outputs": [
        {
          "output_type": "stream",
          "name": "stdout",
          "text": [
            "(63881, 7)\n"
          ]
        }
      ],
      "source": [
        "shape_table = df.shape\n",
        "print(shape_table)"
      ]
    },
    {
      "cell_type": "markdown",
      "source": [
        "Задача 2"
      ],
      "metadata": {
        "id": "vRMeWfH9GEyC"
      }
    },
    {
      "cell_type": "code",
      "source": [
        "duplicate_count = df.duplicated().sum()\n",
        "print('Суммарное количество дубликатов:', duplicate_count)"
      ],
      "metadata": {
        "colab": {
          "base_uri": "https://localhost:8080/"
        },
        "id": "PHmFouIIGBJ6",
        "outputId": "d8cd4240-c980-487e-e710-4090b75c4c3b"
      },
      "execution_count": null,
      "outputs": [
        {
          "output_type": "stream",
          "name": "stdout",
          "text": [
            "Суммарное количество дубликатов: 3755\n"
          ]
        }
      ]
    },
    {
      "cell_type": "markdown",
      "source": [
        "Задача 3"
      ],
      "metadata": {
        "id": "_lUsvp1PGCdw"
      }
    },
    {
      "cell_type": "code",
      "source": [
        "df = df.drop_duplicates().reset_index(drop=True)"
      ],
      "metadata": {
        "id": "h74ff0VEGGV5"
      },
      "execution_count": null,
      "outputs": []
    },
    {
      "cell_type": "markdown",
      "source": [
        "Задача 4"
      ],
      "metadata": {
        "id": "Wxs9LYeoGGh5"
      }
    },
    {
      "cell_type": "code",
      "source": [
        "shape_table_update = df.shape\n",
        "print(shape_table_update)"
      ],
      "metadata": {
        "colab": {
          "base_uri": "https://localhost:8080/"
        },
        "id": "6oAHrkT9GIkx",
        "outputId": "c124e69d-89ef-4710-d584-f792035084f5"
      },
      "execution_count": null,
      "outputs": [
        {
          "output_type": "stream",
          "name": "stdout",
          "text": [
            "(60126, 7)\n"
          ]
        }
      ]
    },
    {
      "cell_type": "markdown",
      "source": [
        "Задача 5"
      ],
      "metadata": {
        "id": "EkIWu9B_GJCQ"
      }
    },
    {
      "cell_type": "code",
      "source": [
        "if shape_table == shape_table_update:\n",
        "    print('Размер таблицы не изменился, текущий размер:', shape_table_update)\n",
        "else:\n",
        "    print('Размер таблицы изменился, новый размер:', shape_table_update)"
      ],
      "metadata": {
        "colab": {
          "base_uri": "https://localhost:8080/"
        },
        "id": "W55QNI0BGKmh",
        "outputId": "7b2f8f53-ed2c-4159-9125-f21e4e384b86"
      },
      "execution_count": null,
      "outputs": [
        {
          "output_type": "stream",
          "name": "stdout",
          "text": [
            "Размер таблицы изменился, новый размер: (60126, 7)\n"
          ]
        }
      ]
    },
    {
      "cell_type": "markdown",
      "source": [
        "Задача 6"
      ],
      "metadata": {
        "id": "OGnwypeGGLBg"
      }
    },
    {
      "cell_type": "code",
      "source": [
        "unique_genres = df['genre_name'].unique()\n",
        "print('Уникальные жанры:', unique_genres)"
      ],
      "metadata": {
        "colab": {
          "base_uri": "https://localhost:8080/"
        },
        "id": "R4MKr_MRGMTA",
        "outputId": "23017e18-52f6-4bc2-d84f-aa633c9c2052"
      },
      "execution_count": null,
      "outputs": [
        {
          "output_type": "stream",
          "name": "stdout",
          "text": [
            "Уникальные жанры: ['rock' 'pop' 'folk' 'dance' 'rusrap' 'ruspop' 'world' 'electronic'\n",
            " 'alternative' 'children' 'rnb' 'hip' 'jazz' 'postrock' 'latin'\n",
            " 'classical' 'metal' 'reggae' 'tatar' 'blues' 'instrumental' 'rusrock'\n",
            " 'dnb' 'türk' 'post' 'country' 'psychedelic' 'conjazz' 'indie'\n",
            " 'posthardcore' 'local' 'avantgarde' 'punk' 'videogame' 'techno' 'house'\n",
            " 'christmas' 'melodic' 'caucasian' 'reggaeton' 'soundtrack' 'singer' 'ska'\n",
            " 'shanson' 'ambient' 'film' 'western' 'rap' 'beats' \"hard'n'heavy\"\n",
            " 'progmetal' 'minimal' 'contemporary' 'new' 'soul' 'holiday' 'german'\n",
            " 'tropical' 'fairytail' 'spiritual' 'urban' 'gospel' 'nujazz' 'folkmetal'\n",
            " 'trance' 'miscellaneous' 'anime' 'hardcore' 'progressive' 'chanson'\n",
            " 'numetal' 'vocal' 'estrada' 'russian' 'classicmetal' 'dubstep' 'club'\n",
            " 'deep' 'southern' 'black' 'folkrock' 'fitness' 'french' 'disco'\n",
            " 'religious' 'hiphop' 'drum' 'extrememetal' 'türkçe' 'experimental' 'easy'\n",
            " 'metalcore' 'modern' 'argentinetango' 'old' 'breaks' 'eurofolk'\n",
            " 'stonerrock' 'industrial' 'funk' 'jpop' 'middle' 'variété' 'other'\n",
            " 'adult' 'christian' 'gothic' 'international' 'muslim' 'relax' 'schlager'\n",
            " 'caribbean' 'ukrrock' 'nu' 'breakbeat' 'comedy' 'chill' 'newage'\n",
            " 'specialty' 'uzbek' 'k-pop' 'balkan' 'chinese' 'meditative' 'dub' 'power'\n",
            " 'death' 'grime' 'arabesk' 'romance' 'flamenco' 'leftfield' 'european'\n",
            " 'tech' 'newwave' 'dancehall' 'mpb' 'piano' 'top' 'bigroom' 'opera'\n",
            " 'celtic' 'tradjazz' 'acoustic' 'epicmetal' 'hip-hop' 'historisch'\n",
            " 'downbeat' 'downtempo' 'africa' 'audiobook' 'jewish' 'sängerportrait'\n",
            " 'deutschrock' 'eastern' 'action' 'future' 'electropop' 'folklore'\n",
            " 'bollywood' 'marschmusik' 'rnr' 'karaoke' 'indian' 'rancheras'\n",
            " 'электроника' 'afrikaans' 'tango' 'rhythm' 'sound' 'deutschspr' 'trip'\n",
            " 'lovers' 'choral' 'dancepop' 'podcasts' 'retro' 'smooth' 'mexican'\n",
            " 'brazilian' 'ïîï' 'mood' 'surf' 'author' 'gangsta' 'triphop'\n",
            " 'inspirational' 'idm' 'ethnic' 'bluegrass' 'broadway' 'animated'\n",
            " 'americana' 'karadeniz' 'rockabilly' 'colombian' 'self' 'hop' 'synthrock'\n",
            " 'sertanejo' 'japanese' 'canzone' 'swing' 'lounge' 'sport' 'korean'\n",
            " 'ragga' 'traditional' 'gitarre' 'frankreich' 'alternativepunk' 'emo'\n",
            " 'laiko' 'cantopop' 'glitch' 'documentary' 'rockalternative' 'thrash'\n",
            " 'hymn' 'oceania' 'rockother' 'popeurodance' 'dark' 'vi' 'grunge'\n",
            " 'hardstyle' 'samba' 'garage' 'soft' 'art' 'folktronica' 'entehno'\n",
            " 'mediterranean' 'chamber' 'cuban' 'taraftar' 'rockindie' 'gypsy'\n",
            " 'hardtechno' 'shoegazing' 'skarock' 'bossa' 'salsa' 'latino' 'worldbeat'\n",
            " 'malaysian' 'baile' 'ghazal' 'loungeelectronic' 'arabic' 'popelectronic'\n",
            " 'acid' 'kayokyoku' 'neoklassik' 'tribal' 'tanzorchester' 'native'\n",
            " 'independent' 'cantautori' 'handsup' 'poprussian' 'punjabi' 'synthpop'\n",
            " 'rave' 'französisch' 'quebecois' 'speech' 'soulful' 'teen' 'jam' 'ram'\n",
            " 'horror' 'scenic' 'orchestral' 'neue' 'roots' 'slow' 'jungle' 'indipop'\n",
            " 'axé' 'fado' 'showtunes' 'arena' 'irish' 'mandopop' 'forró' 'popdance'\n",
            " 'dirty' 'regional']\n"
          ]
        }
      ]
    },
    {
      "cell_type": "markdown",
      "source": [
        "Задача 7"
      ],
      "metadata": {
        "id": "nfUWtv0SGMeR"
      }
    },
    {
      "cell_type": "code",
      "source": [
        "df['genre_name'] = df['genre_name'].replace('электроника', 'electronic')"
      ],
      "metadata": {
        "id": "qC7wiSPuGOER"
      },
      "execution_count": null,
      "outputs": []
    },
    {
      "cell_type": "markdown",
      "source": [
        "Задача 8"
      ],
      "metadata": {
        "id": "4qqePjKgGOTa"
      }
    },
    {
      "cell_type": "code",
      "source": [
        "genre_final_count = df['genre_name'].value_counts().get('электроника', 0)\n",
        "print('Количество значений \"электроника\":', genre_final_count)"
      ],
      "metadata": {
        "colab": {
          "base_uri": "https://localhost:8080/"
        },
        "id": "yon4WTrHGPo3",
        "outputId": "28cfa3d3-7f92-427d-c595-5ba3c91d392c"
      },
      "execution_count": null,
      "outputs": [
        {
          "output_type": "stream",
          "name": "stdout",
          "text": [
            "Количество значений \"электроника\": 0\n"
          ]
        }
      ]
    }
  ],
  "metadata": {
    "colab": {
      "provenance": [],
      "include_colab_link": true
    },
    "kernelspec": {
      "display_name": "Python 3 (ipykernel)",
      "language": "python",
      "name": "python3"
    },
    "language_info": {
      "codemirror_mode": {
        "name": "ipython",
        "version": 3
      },
      "file_extension": ".py",
      "mimetype": "text/x-python",
      "name": "python",
      "nbconvert_exporter": "python",
      "pygments_lexer": "ipython3",
      "version": "3.9.12"
    }
  },
  "nbformat": 4,
  "nbformat_minor": 0
}